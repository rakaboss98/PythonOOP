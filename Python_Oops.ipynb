{
  "cells": [
    {
      "cell_type": "markdown",
      "metadata": {
        "id": "view-in-github",
        "colab_type": "text"
      },
      "source": [
        "<a href=\"https://colab.research.google.com/github/rakaboss98/PythonOOP/blob/main/Python_Oops.ipynb\" target=\"_parent\"><img src=\"https://colab.research.google.com/assets/colab-badge.svg\" alt=\"Open In Colab\"/></a>"
      ]
    },
    {
      "cell_type": "markdown",
      "source": [
        "## Python Object Oriented Programming\n",
        "\n",
        "\n",
        "1.   Object -- A Unique id in a class with specific attributes\n",
        "2.   Class -- Blueprint for an object\n",
        "3.   __init__() always gets called when an object is declared\n",
        "\n"
      ],
      "metadata": {
        "id": "tg_N-exxTMHr"
      }
    },
    {
      "cell_type": "code",
      "source": [
        "class Model:\n",
        "  def __init__(self, name, checkpoint = \".pth\"):\n",
        "    self.name = name \n",
        "    self.ckpt = checkpoint\n",
        "  def check_which_model(self):\n",
        "    \n",
        "    return self.name \n",
        "\n",
        "model1 = Model(\"VGG\")\n",
        "model2 = Model(\"ResNet\")\n",
        "\n",
        "result = model2.check_which_model()\n",
        "print(result)"
      ],
      "metadata": {
        "id": "MiuIghTCTml9",
        "colab": {
          "base_uri": "https://localhost:8080/"
        },
        "outputId": "4745fe8a-8f6d-47d4-8720-db98078a7c70"
      },
      "execution_count": null,
      "outputs": [
        {
          "output_type": "stream",
          "name": "stdout",
          "text": [
            "ResNet\n"
          ]
        }
      ]
    },
    {
      "cell_type": "markdown",
      "source": [
        "## Python Inheritance\n",
        "\n",
        "\n",
        "*   Inheritance is useful when multiple classes can be derived from the same parent class, example Car and Bike are both derived from vehicle\n",
        "*   The method of the child class can override the parent class, this is called method overriding    \n",
        "\n"
      ],
      "metadata": {
        "id": "ik6QlwLdckZ8"
      }
    },
    {
      "cell_type": "code",
      "source": [
        "class VisionModels:\n",
        "  def __init__(self):\n",
        "    self.it = 5\n",
        "    pass\n",
        "  def Backbone(self, default = \"VGG\"):\n",
        "    print(\"the backbone is {}\".format(default))\n",
        "    return None \n",
        "\n",
        "class Detection(VisionModels):\n",
        "  def __init__(self):\n",
        "    VisionModels.__init__(self)\n",
        "  def BoundingBox(self, default = \"rectangle\"):\n",
        "    print(\"The bounding box will be a {}\".format(default))\n",
        "    print(\"###\", self.it)\n",
        "    return None \n",
        "\n",
        "class Classification(VisionModels):\n",
        "  def __init__(self):\n",
        "    pass\n",
        "\n",
        "DetectionModel = Detection()\n",
        "DetectionModel.Backbone()\n",
        "DetectionModel.BoundingBox()\n",
        "\n",
        "ClassificationModel = Classification()\n",
        "ClassificationModel.Backbone()\n",
        "\n",
        "\n",
        "  \n",
        "  "
      ],
      "metadata": {
        "colab": {
          "base_uri": "https://localhost:8080/"
        },
        "id": "zqE0MHxvVspo",
        "outputId": "f2bb5d50-97cb-4ba9-bf61-f4d718b46593"
      },
      "execution_count": null,
      "outputs": [
        {
          "output_type": "stream",
          "name": "stdout",
          "text": [
            "the backbone is VGG\n",
            "The bounding box will be a rectangle\n",
            "### 5\n",
            "the backbone is VGG\n"
          ]
        }
      ]
    },
    {
      "cell_type": "markdown",
      "source": [
        "## Another Example of Inheritance "
      ],
      "metadata": {
        "id": "U9Pf1lL1gJ7E"
      }
    },
    {
      "cell_type": "code",
      "source": [
        "class Polygon:\n",
        "  def __init__(self, sides):\n",
        "    self.sides = sides\n",
        "  def get_perimeter(self):\n",
        "    return sum(self.sides)\n",
        "\n",
        "class Triangle(Polygon):\n",
        "  def get_info(self):\n",
        "    print(\"A Polygon with 3 sides\")\n",
        "\n",
        "class Quadrilateral(Polygon):\n",
        "  def get_info(self):\n",
        "    print(\"A Polygon with 4 sides\")\n",
        "\n",
        "ATriangle = Triangle([2,3,4])\n",
        "print(ATriangle.get_perimeter())\n",
        "\n",
        "AQuadri = Quadrilateral([4,5,6,7])\n",
        "print(AQuadri.get_perimeter())\n"
      ],
      "metadata": {
        "colab": {
          "base_uri": "https://localhost:8080/"
        },
        "id": "ToyjcnROgMul",
        "outputId": "2425c800-8777-4f22-d9fc-21211641d677"
      },
      "execution_count": null,
      "outputs": [
        {
          "output_type": "stream",
          "name": "stdout",
          "text": [
            "9\n",
            "22\n"
          ]
        }
      ]
    },
    {
      "cell_type": "markdown",
      "source": [
        "## Multiple & Multilevel Inheritance\n",
        "*    Multiple Inhertance: When a class inherits multiple base classes\n",
        "*    Multilevel Inheritance: When a class is inherited by another class which in turn is inherited by another class and so on"
      ],
      "metadata": {
        "id": "tYOUBf9F-e82"
      }
    },
    {
      "cell_type": "code",
      "source": [
        "\" Multiple Inhertitance \"\n",
        "\n",
        "class Base1:\n",
        "  pass\n",
        "\n",
        "class Base2:\n",
        "  pass\n",
        "\n",
        "class MultipleInherit(Base1, Base2):\n",
        "  pass\n",
        "\n",
        "print(MultipleInherit.__mro__)\n",
        "print(MultipleInherit.mro())\n",
        "\n",
        "\" Multilevel Inhertance \"\n",
        "\n",
        "class Base1:\n",
        "  pass\n",
        "\n",
        "class Base2(Base1):\n",
        "  pass\n",
        "\n",
        "class MultilevelInherit(Base2):\n",
        "  pass\n",
        "\n",
        "print(MultilevelInherit.__mro__)\n",
        "print(MultilevelInherit.mro())\n"
      ],
      "metadata": {
        "id": "K1ywfdZVhhIS",
        "colab": {
          "base_uri": "https://localhost:8080/"
        },
        "outputId": "213df400-fa27-46da-dd6c-83aa69dca7f6"
      },
      "execution_count": null,
      "outputs": [
        {
          "output_type": "stream",
          "name": "stdout",
          "text": [
            "(<class '__main__.MultipleInherit'>, <class '__main__.Base1'>, <class '__main__.Base2'>, <class 'object'>)\n",
            "[<class '__main__.MultipleInherit'>, <class '__main__.Base1'>, <class '__main__.Base2'>, <class 'object'>]\n",
            "(<class '__main__.MultilevelInherit'>, <class '__main__.Base2'>, <class '__main__.Base1'>, <class 'object'>)\n",
            "[<class '__main__.MultilevelInherit'>, <class '__main__.Base2'>, <class '__main__.Base1'>, <class 'object'>]\n"
          ]
        }
      ]
    },
    {
      "cell_type": "markdown",
      "source": [
        "## Operator Overloading\n",
        "Python operators work for built-in classes. But the same operator behaves differently with different types. For example, the + operator will perform arithmetic addition on two numbers, merge two lists, or concatenate two strings.\n",
        "This feature in Python that allows the same operator to have different meaning according to the context is called operator overloading.\n",
        "\n"
      ],
      "metadata": {
        "id": "ZtpDK1d1ADJ0"
      }
    },
    {
      "cell_type": "code",
      "source": [
        "class AddNumbers:\n",
        "  def __init__(self, x, y):\n",
        "    self.x = x\n",
        "    self.y = y\n",
        "\n",
        "p1 = AddNumbers(2,3)\n",
        "p2 = AddNumbers(5,6)\n",
        "\n",
        "print(p1+p2)\n",
        "\n",
        "# this will throw an error since the add operator will not work as usual for two objects"
      ],
      "metadata": {
        "id": "RgAmnjRsAIcK",
        "colab": {
          "base_uri": "https://localhost:8080/",
          "height": 232
        },
        "outputId": "46f0571a-a87e-40f7-9f52-9bc00d8ca88b"
      },
      "execution_count": null,
      "outputs": [
        {
          "output_type": "error",
          "ename": "TypeError",
          "evalue": "ignored",
          "traceback": [
            "\u001b[0;31m---------------------------------------------------------------------------\u001b[0m",
            "\u001b[0;31mTypeError\u001b[0m                                 Traceback (most recent call last)",
            "\u001b[0;32m<ipython-input-4-83998eac549b>\u001b[0m in \u001b[0;36m<module>\u001b[0;34m()\u001b[0m\n\u001b[1;32m      7\u001b[0m \u001b[0mp2\u001b[0m \u001b[0;34m=\u001b[0m \u001b[0mAddNumbers\u001b[0m\u001b[0;34m(\u001b[0m\u001b[0;36m5\u001b[0m\u001b[0;34m,\u001b[0m\u001b[0;36m6\u001b[0m\u001b[0;34m)\u001b[0m\u001b[0;34m\u001b[0m\u001b[0;34m\u001b[0m\u001b[0m\n\u001b[1;32m      8\u001b[0m \u001b[0;34m\u001b[0m\u001b[0m\n\u001b[0;32m----> 9\u001b[0;31m \u001b[0mprint\u001b[0m\u001b[0;34m(\u001b[0m\u001b[0mp1\u001b[0m\u001b[0;34m+\u001b[0m\u001b[0mp2\u001b[0m\u001b[0;34m)\u001b[0m\u001b[0;34m\u001b[0m\u001b[0;34m\u001b[0m\u001b[0m\n\u001b[0m\u001b[1;32m     10\u001b[0m \u001b[0;34m\u001b[0m\u001b[0m\n\u001b[1;32m     11\u001b[0m \u001b[0;31m# this will throw an error since the add operator will not work as usual for two objects\u001b[0m\u001b[0;34m\u001b[0m\u001b[0;34m\u001b[0m\u001b[0;34m\u001b[0m\u001b[0m\n",
            "\u001b[0;31mTypeError\u001b[0m: unsupported operand type(s) for +: 'AddNumbers' and 'AddNumbers'"
          ]
        }
      ]
    },
    {
      "cell_type": "markdown",
      "source": [
        "## List of Operator methods \n",
        "![Screenshot 2022-03-17 at 12.29.56 AM.png](data:image/png;base64,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)"
      ],
      "metadata": {
        "id": "P-BkUpXeJVZ9"
      }
    },
    {
      "cell_type": "code",
      "source": [
        "class AddNumbers:\n",
        "  def __init__(self, x, y):\n",
        "    self.x = x\n",
        "    self.y = y\n",
        "  def __add__(self, other):\n",
        "    x = self.x + other.x\n",
        "    y = self.y + other.y\n",
        "    return x,y\n",
        "\n",
        "p1 = AddNumbers(2,3)\n",
        "p2 = AddNumbers(5,6)\n",
        "\n",
        "# the add operator is overloaded to work with custom objects \n",
        "print(p1+p2)"
      ],
      "metadata": {
        "colab": {
          "base_uri": "https://localhost:8080/"
        },
        "id": "YsDSn6z5Fl12",
        "outputId": "73af8980-5677-4d39-ab6e-cc4f8fb9344e"
      },
      "execution_count": null,
      "outputs": [
        {
          "output_type": "stream",
          "name": "stdout",
          "text": [
            "(7, 9)\n"
          ]
        }
      ]
    },
    {
      "cell_type": "markdown",
      "source": [
        "### The overloading in python is not just limited to the arithmetic operators, comparison operators can also be overloaded "
      ],
      "metadata": {
        "id": "j2k3si3WJuQb"
      }
    },
    {
      "cell_type": "code",
      "source": [
        "class CompareDistance:\n",
        "  def __init__(self, x, y):\n",
        "    self.x = x\n",
        "    self.y = y\n",
        "  def __lt__(self, other):\n",
        "    x = (self.x)^2 + (self.y)^2\n",
        "    y = (other.x)^2 + (other.y)^2\n",
        "    return x<y\n",
        "\n",
        "p1 = CompareDistance(2,3)\n",
        "p2 = CompareDistance(5,6)\n",
        "\n",
        "# the add operator is overloaded to work with custom objects \n",
        "print(p1<p2)"
      ],
      "metadata": {
        "colab": {
          "base_uri": "https://localhost:8080/"
        },
        "id": "4Zgj-6rwGIeR",
        "outputId": "3adfc844-84c1-4c26-aa66-cfc2ace4871c"
      },
      "execution_count": null,
      "outputs": [
        {
          "output_type": "stream",
          "name": "stdout",
          "text": [
            "True\n"
          ]
        }
      ]
    },
    {
      "cell_type": "markdown",
      "source": [
        "![Screenshot 2022-03-17 at 12.48.44 AM.png](data:image/png;base64,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)"
      ],
      "metadata": {
        "id": "MMtSvNDfKkp3"
      }
    },
    {
      "cell_type": "markdown",
      "source": [
        "## Iterator"
      ],
      "metadata": {
        "id": "OUU1C8FeWPse"
      }
    },
    {
      "cell_type": "code",
      "source": [
        "l = [2,3,4]\n",
        "print(dir(l)) # prints a list of all the methods available for a dir object \n",
        "print(l.__iter__())\n",
        "value = l.__iter__()\n",
        "item1 = value.__next__()\n",
        "print(item1)\n",
        "item2 = value.__next__()\n",
        "print(item2)"
      ],
      "metadata": {
        "colab": {
          "base_uri": "https://localhost:8080/"
        },
        "id": "DklZmI6YKjOY",
        "outputId": "34054669-d531-46ed-b9ec-1a3ff347bff9"
      },
      "execution_count": null,
      "outputs": [
        {
          "output_type": "stream",
          "name": "stdout",
          "text": [
            "['__add__', '__class__', '__contains__', '__delattr__', '__delitem__', '__dir__', '__doc__', '__eq__', '__format__', '__ge__', '__getattribute__', '__getitem__', '__gt__', '__hash__', '__iadd__', '__imul__', '__init__', '__init_subclass__', '__iter__', '__le__', '__len__', '__lt__', '__mul__', '__ne__', '__new__', '__reduce__', '__reduce_ex__', '__repr__', '__reversed__', '__rmul__', '__setattr__', '__setitem__', '__sizeof__', '__str__', '__subclasshook__', 'append', 'clear', 'copy', 'count', 'extend', 'index', 'insert', 'pop', 'remove', 'reverse', 'sort']\n",
            "<list_iterator object at 0x7f51c69186d0>\n",
            "2\n",
            "3\n"
          ]
        }
      ]
    },
    {
      "cell_type": "markdown",
      "source": [
        "## Write a class to iterate over the even number less than a maxium input number"
      ],
      "metadata": {
        "id": "fpHwqXotZcD7"
      }
    },
    {
      "cell_type": "code",
      "source": [
        "class Even:\n",
        "  def __init__(self, max):\n",
        "    self.n = 2\n",
        "    self.max = max\n",
        "  \n",
        "  def __iter__(self):\n",
        "    return self\n",
        "  \n",
        "  def __next__(self):\n",
        "\n",
        "    if self.n <= self.max:\n",
        "      result = self.n\n",
        "      self.n += 2\n",
        "      return result\n",
        "    else:\n",
        "      raise StopIteration\n",
        "\n",
        "num  = Even(6)\n",
        "print(num.__next__())\n",
        "print(num.__next__())\n",
        "print(num.__next__())\n",
        "      "
      ],
      "metadata": {
        "colab": {
          "base_uri": "https://localhost:8080/"
        },
        "id": "xwnsmILqWXWl",
        "outputId": "6f14981c-38f4-4bfb-9b5a-a675310c8133"
      },
      "execution_count": null,
      "outputs": [
        {
          "output_type": "stream",
          "name": "stdout",
          "text": [
            "2\n",
            "4\n",
            "6\n"
          ]
        }
      ]
    },
    {
      "cell_type": "markdown",
      "source": [
        "## Generators"
      ],
      "metadata": {
        "id": "NCJaU0htbH-z"
      }
    },
    {
      "cell_type": "code",
      "source": [
        "def numbers():\n",
        "  n = 0\n",
        "\n",
        "  n = n+2\n",
        "  yield n\n",
        "  n = n+2\n",
        "  yield n\n",
        "  n = n+2\n",
        "  yield n\n",
        "\n",
        "number = numbers()\n",
        "print(number.__next__())\n",
        "print(number.__next__())\n",
        "print(number.__next__())\n",
        "  "
      ],
      "metadata": {
        "id": "BKIm7rVdacrs",
        "colab": {
          "base_uri": "https://localhost:8080/"
        },
        "outputId": "a6e9eb53-00cf-4860-b9f6-3a80323c07ad"
      },
      "execution_count": null,
      "outputs": [
        {
          "output_type": "stream",
          "name": "stdout",
          "text": [
            "2\n",
            "4\n",
            "6\n"
          ]
        }
      ]
    },
    {
      "cell_type": "code",
      "source": [
        "def numbers(max):\n",
        "  n = 0\n",
        "  while n<= max:\n",
        "    n += 2\n",
        "    yield n\n",
        "\n",
        "number = numbers(4)\n",
        "print(next(number))\n",
        "print(next(number))\n",
        "print(next(number))\n",
        "print(next(number))\n",
        "\n",
        "# It's very easy to generate number using a generator than using an iterator \n",
        "# using a generator/iterator helps in memory management since we're dealing with only one element at a time\n",
        "# we don't need to manually program the stop iteration error"
      ],
      "metadata": {
        "colab": {
          "base_uri": "https://localhost:8080/",
          "height": 254
        },
        "id": "_YpOoGj-LX8n",
        "outputId": "17dd7c84-2d2f-4257-9a95-79a336ee8144"
      },
      "execution_count": null,
      "outputs": [
        {
          "output_type": "stream",
          "name": "stdout",
          "text": [
            "2\n",
            "4\n",
            "6\n"
          ]
        },
        {
          "output_type": "error",
          "ename": "StopIteration",
          "evalue": "ignored",
          "traceback": [
            "\u001b[0;31m---------------------------------------------------------------------------\u001b[0m",
            "\u001b[0;31mStopIteration\u001b[0m                             Traceback (most recent call last)",
            "\u001b[0;32m<ipython-input-3-596b8f67c8f9>\u001b[0m in \u001b[0;36m<module>\u001b[0;34m()\u001b[0m\n\u001b[1;32m      9\u001b[0m \u001b[0mprint\u001b[0m\u001b[0;34m(\u001b[0m\u001b[0mnext\u001b[0m\u001b[0;34m(\u001b[0m\u001b[0mnumber\u001b[0m\u001b[0;34m)\u001b[0m\u001b[0;34m)\u001b[0m\u001b[0;34m\u001b[0m\u001b[0;34m\u001b[0m\u001b[0m\n\u001b[1;32m     10\u001b[0m \u001b[0mprint\u001b[0m\u001b[0;34m(\u001b[0m\u001b[0mnext\u001b[0m\u001b[0;34m(\u001b[0m\u001b[0mnumber\u001b[0m\u001b[0;34m)\u001b[0m\u001b[0;34m)\u001b[0m\u001b[0;34m\u001b[0m\u001b[0;34m\u001b[0m\u001b[0m\n\u001b[0;32m---> 11\u001b[0;31m \u001b[0mprint\u001b[0m\u001b[0;34m(\u001b[0m\u001b[0mnext\u001b[0m\u001b[0;34m(\u001b[0m\u001b[0mnumber\u001b[0m\u001b[0;34m)\u001b[0m\u001b[0;34m)\u001b[0m\u001b[0;34m\u001b[0m\u001b[0;34m\u001b[0m\u001b[0m\n\u001b[0m",
            "\u001b[0;31mStopIteration\u001b[0m: "
          ]
        }
      ]
    },
    {
      "cell_type": "code",
      "source": [
        "# Generator to print an odd number less than a particular number\n",
        "\n",
        "def OddNumber(max):\n",
        "  odd1 = 1\n",
        "  print(odd1)\n",
        "  while odd1<= max:\n",
        "    odd1 += 2\n",
        "    yield odd1\n",
        "\n",
        "number = OddNumber(10)\n",
        "\n",
        "for _ in range(1,10):\n",
        "  print(next(number))\n",
        "\n"
      ],
      "metadata": {
        "colab": {
          "base_uri": "https://localhost:8080/",
          "height": 324
        },
        "id": "OAMrcZ_SUKOS",
        "outputId": "c5f7c8d6-c23b-403a-f01c-9e71fab4468f"
      },
      "execution_count": null,
      "outputs": [
        {
          "output_type": "stream",
          "name": "stdout",
          "text": [
            "1\n",
            "3\n",
            "5\n",
            "7\n",
            "9\n",
            "11\n"
          ]
        },
        {
          "output_type": "error",
          "ename": "StopIteration",
          "evalue": "ignored",
          "traceback": [
            "\u001b[0;31m---------------------------------------------------------------------------\u001b[0m",
            "\u001b[0;31mStopIteration\u001b[0m                             Traceback (most recent call last)",
            "\u001b[0;32m<ipython-input-7-047654e34fd1>\u001b[0m in \u001b[0;36m<module>\u001b[0;34m()\u001b[0m\n\u001b[1;32m      9\u001b[0m \u001b[0;34m\u001b[0m\u001b[0m\n\u001b[1;32m     10\u001b[0m \u001b[0;32mfor\u001b[0m \u001b[0m_\u001b[0m \u001b[0;32min\u001b[0m \u001b[0mrange\u001b[0m\u001b[0;34m(\u001b[0m\u001b[0;36m1\u001b[0m\u001b[0;34m,\u001b[0m\u001b[0;36m10\u001b[0m\u001b[0;34m)\u001b[0m\u001b[0;34m:\u001b[0m\u001b[0;34m\u001b[0m\u001b[0;34m\u001b[0m\u001b[0m\n\u001b[0;32m---> 11\u001b[0;31m   \u001b[0mprint\u001b[0m\u001b[0;34m(\u001b[0m\u001b[0mnext\u001b[0m\u001b[0;34m(\u001b[0m\u001b[0mnumber\u001b[0m\u001b[0;34m)\u001b[0m\u001b[0;34m)\u001b[0m\u001b[0;34m\u001b[0m\u001b[0;34m\u001b[0m\u001b[0m\n\u001b[0m\u001b[1;32m     12\u001b[0m \u001b[0;34m\u001b[0m\u001b[0m\n",
            "\u001b[0;31mStopIteration\u001b[0m: "
          ]
        }
      ]
    },
    {
      "cell_type": "markdown",
      "source": [
        "## Non local variable in a nested function"
      ],
      "metadata": {
        "id": "uqosekpEZjm_"
      }
    },
    {
      "cell_type": "code",
      "source": [
        "def print_msg(msg): # this is the enclosure function\n",
        "\n",
        "  # this function prints message\n",
        "\n",
        "  def printer():\n",
        "    print(msg)\n",
        "  \n",
        "  printer()\n",
        "\n",
        "print_msg(\"hello world\")"
      ],
      "metadata": {
        "colab": {
          "base_uri": "https://localhost:8080/"
        },
        "id": "9oGsiU5PWY9L",
        "outputId": "c238b596-2642-47df-f9ac-fa61788f6949"
      },
      "execution_count": null,
      "outputs": [
        {
          "output_type": "stream",
          "name": "stdout",
          "text": [
            "hello world\n"
          ]
        }
      ]
    },
    {
      "cell_type": "code",
      "source": [
        "def print_msg(msg): # this is the enclosure function\n",
        "\n",
        "  # this function prints message\n",
        "\n",
        "  def printer():\n",
        "    print(msg)\n",
        "  \n",
        "  return printer\n",
        "\n",
        "another = print_msg(\"hello world\") # return another function object\n",
        "another()\n",
        "del print_msg # deleting the original function\n",
        "another() # the variable \"hello\" is still attached to the enclosing function"
      ],
      "metadata": {
        "colab": {
          "base_uri": "https://localhost:8080/"
        },
        "id": "Rkah4SfOawnx",
        "outputId": "4e55de7a-0d73-4b25-f0a6-8f3416628faa"
      },
      "execution_count": null,
      "outputs": [
        {
          "output_type": "stream",
          "name": "stdout",
          "text": [
            "hello world\n",
            "hello world\n"
          ]
        }
      ]
    },
    {
      "cell_type": "code",
      "source": [
        "# An elegant implementation of function closure\n",
        "\n",
        "def number(x):\n",
        "  def multiply(y):\n",
        "    \n",
        "    return x*y\n",
        "  return multiply \n",
        "\n",
        "table5 = number(5)\n",
        "table6 = number(6)\n",
        "\n",
        "print(table5(5))\n",
        "print(table6(5))\n",
        "\n",
        "table5.__closure__\n",
        "table5.__closure__[0].cell_contents"
      ],
      "metadata": {
        "colab": {
          "base_uri": "https://localhost:8080/"
        },
        "id": "z9dBXXgXeVXk",
        "outputId": "9014ddd5-135b-4567-9813-285fd3134cb3"
      },
      "execution_count": null,
      "outputs": [
        {
          "output_type": "stream",
          "name": "stdout",
          "text": [
            "25\n",
            "30\n"
          ]
        },
        {
          "output_type": "execute_result",
          "data": {
            "text/plain": [
              "5"
            ]
          },
          "metadata": {},
          "execution_count": 20
        }
      ]
    },
    {
      "cell_type": "markdown",
      "source": [
        "## Python Decorators"
      ],
      "metadata": {
        "id": "2CCLZw9lhKUT"
      }
    },
    {
      "cell_type": "code",
      "source": [
        "# this function will hey executed first \n",
        "def printfunc(func):\n",
        "  print(\"the function has been inherited\")\n",
        "  def printmsg(msg = \"this will inherit the function variable\"):\n",
        "    return \"the text to be printed is {}\".format(func(msg))\n",
        "  return printmsg\n",
        "\n",
        "\n",
        "# this function will be used inside the other enclosing function and it's inputs will be passed to the \n",
        "@printfunc\n",
        "def write(txt):\n",
        "  return txt\n",
        "\n",
        "statement = write(\"does this work?\")\n",
        "print(statement)\n"
      ],
      "metadata": {
        "colab": {
          "base_uri": "https://localhost:8080/"
        },
        "id": "bCXj8IQRZ2vs",
        "outputId": "68e2a32c-d17c-4775-bd2f-39279a907280"
      },
      "execution_count": null,
      "outputs": [
        {
          "output_type": "stream",
          "name": "stdout",
          "text": [
            "the function has been inherited\n",
            "the text to be printed is does this work?\n"
          ]
        }
      ]
    },
    {
      "cell_type": "markdown",
      "source": [
        "## Chaining two decorators"
      ],
      "metadata": {
        "id": "4Fsx3322MX9x"
      }
    },
    {
      "cell_type": "code",
      "source": [
        "# wraps the PrintBye function\n",
        "def PrintHello(func):\n",
        "  def hello(msg):\n",
        "    return \"the second statement is {}\".format(func(msg))\n",
        "  return hello\n",
        "\n",
        "# wraps the dispmsg function\n",
        "def PrintBye(func):\n",
        "  def bye(msg):\n",
        "    return \"the first statement is {}\".format(func(msg))\n",
        "  return bye\n",
        "\n",
        "@PrintHello\n",
        "@PrintBye\n",
        "def dispmsg(txt):\n",
        "  return txt\n",
        "\n",
        "print(dispmsg(\"Hello world\"))\n",
        "\n"
      ],
      "metadata": {
        "colab": {
          "base_uri": "https://localhost:8080/"
        },
        "id": "bCAEsJW5Aqbb",
        "outputId": "cb23382a-a98f-4da6-cc9f-e5253ec027d6"
      },
      "execution_count": null,
      "outputs": [
        {
          "output_type": "stream",
          "name": "stdout",
          "text": [
            "the second statement is the first statement is Hello world\n"
          ]
        }
      ]
    },
    {
      "cell_type": "markdown",
      "source": [
        "## Python *args **kwargs\n",
        "\n",
        "\n",
        "*   *args - allows us to input variable length on non keywords arguments\n",
        "*   **kwargs - allows us to pass variable length of non keywords arguments\n",
        "\n"
      ],
      "metadata": {
        "id": "n_TaGVT0urj2"
      }
    },
    {
      "cell_type": "code",
      "source": [
        "def times3(*num):\n",
        "  for n in num:\n",
        "    print(3*n)\n",
        "  return None \n",
        "\n",
        "times3(1,2)\n",
        "times3(1,2,3)"
      ],
      "metadata": {
        "colab": {
          "base_uri": "https://localhost:8080/"
        },
        "id": "W7uLPmkRvL6Z",
        "outputId": "72927ba7-6bb4-41df-d07a-a399868b47e1"
      },
      "execution_count": null,
      "outputs": [
        {
          "output_type": "stream",
          "name": "stdout",
          "text": [
            "3\n",
            "6\n",
            "3\n",
            "6\n",
            "9\n"
          ]
        }
      ]
    },
    {
      "cell_type": "code",
      "source": [
        "user_profile1 = {\"Name\":\"Rakshit\", \"ID\":\"GSE003\", \"Title\":\"VP\", \"Age\":23}\n",
        "user_profile1 = {\"Name\":\"Rakshit\", \"ID\":\"GSE003\", \"Title\":\"VP\"}\n",
        "\n",
        "\n",
        "def PrintProfile(**profile):\n",
        "  for key, value in profile.items():\n",
        "    print(\" The query is {} and the value is {}\".format(key, value), \"\\n\")\n",
        "  return None \n",
        "\n",
        "PrintProfile(Name=\"Rakshit\", ID=\"GSE003\", Title=\"VP\", Age=23)\n",
        "PrintProfile(Name=\"Rakshit\", ID=\"GSE003\", Title=\"VP\")"
      ],
      "metadata": {
        "colab": {
          "base_uri": "https://localhost:8080/"
        },
        "id": "_xFqTjlxveLU",
        "outputId": "09e8214e-1202-4115-85ff-4869825d3dd6"
      },
      "execution_count": null,
      "outputs": [
        {
          "output_type": "stream",
          "name": "stdout",
          "text": [
            " The query is Name and the value is Rakshit \n",
            "\n",
            " The query is ID and the value is GSE003 \n",
            "\n",
            " The query is Title and the value is VP \n",
            "\n",
            " The query is Age and the value is 23 \n",
            "\n",
            " The query is Name and the value is Rakshit \n",
            "\n",
            " The query is ID and the value is GSE003 \n",
            "\n",
            " The query is Title and the value is VP \n",
            "\n"
          ]
        }
      ]
    },
    {
      "cell_type": "markdown",
      "source": [
        "## Getter setter and property decorators"
      ],
      "metadata": {
        "id": "ItlYh7270R1l"
      }
    },
    {
      "cell_type": "code",
      "source": [
        "# Implementing a class without getters and setters\n",
        "\n",
        "class TempConv:\n",
        "  def __init__(self, temp=0):\n",
        "    self.temp = temp\n",
        "  def convert(self):\n",
        "    return 1.8*self.temp+32\n",
        "\n",
        "human = TempConv()\n",
        "human.temp = 37\n",
        "print(human.convert())\n",
        "human.__dict__\n",
        "\n",
        "# but temperature of a human cannot go beyond -273 degree celcius right?\n",
        "\n",
        "class TempConv:\n",
        "  def __init__(self, temp=0):\n",
        "    self.set_temp(temp)\n",
        "  def convert(self):\n",
        "    return 1.8*self._temp+32\n",
        "  \n",
        "  # getter function\n",
        "  def get_temp(self):\n",
        "    return self._temp\n",
        "  \n",
        "  # setter function\n",
        "  def set_temp(self, value):\n",
        "    if value < -273:\n",
        "      raise ValueError(\"this temperature is not possible\")\n",
        "    self._temp = value\n",
        "\n",
        "human = TempConv(-156)\n",
        "print(human.get_temp())\n",
        "print(human.convert())\n",
        "print(human.__dict__)\n",
        "\n",
        "'''However, the bigger problem with the above update is that all the programs\n",
        " that implemented our previous class have to modify their code from \n",
        " obj.temperature to obj.get_temperature() and all expressions like \n",
        " obj.temperature = val to obj.set_temperature(val).'''\n"
      ],
      "metadata": {
        "colab": {
          "base_uri": "https://localhost:8080/"
        },
        "id": "GTt-Hq_9xDXM",
        "outputId": "cbae1224-a9ce-49b5-8855-fb058dac33f0"
      },
      "execution_count": null,
      "outputs": [
        {
          "output_type": "stream",
          "name": "stdout",
          "text": [
            "98.60000000000001\n",
            "-156\n",
            "-248.8\n",
            "{'_temp': -156}\n"
          ]
        }
      ]
    },
    {
      "cell_type": "markdown",
      "source": [
        "## The property class"
      ],
      "metadata": {
        "id": "weN8qMF77If1"
      }
    },
    {
      "cell_type": "code",
      "source": [
        "class TempConv:\n",
        "  def __init__(self, temp=0):\n",
        "    self.set_temp(temp)\n",
        "  def convert(self):\n",
        "    return 1.8*self._temp+32\n",
        "  print(\"Setting temperature...\")\n",
        "  # getter function\n",
        "  def get_temp(self):\n",
        "    print(\"Getting temperature...\")\n",
        "    return self._temp\n",
        "  \n",
        "  # setter function\n",
        "  def set_temp(self, value):\n",
        "    if value < -273:\n",
        "      raise ValueError(\"this temperature is not possible\")\n",
        "    self._temp = value\n",
        "\n",
        "  # creating a property object\n",
        "\n",
        "  temp = property(get_temp, set_temp)\n",
        "\n",
        "human = TempConv(45)\n",
        "print(human.temp)\n",
        "print(human.convert())\n",
        "human.temp = -400"
      ],
      "metadata": {
        "colab": {
          "base_uri": "https://localhost:8080/",
          "height": 393
        },
        "id": "coZIW2PQ7Mwf",
        "outputId": "a22abb73-34a1-4bdb-bed2-6dbd91f1458a"
      },
      "execution_count": null,
      "outputs": [
        {
          "output_type": "stream",
          "name": "stdout",
          "text": [
            "Setting temperature...\n",
            "Getting temperature...\n",
            "45\n",
            "113.0\n"
          ]
        },
        {
          "output_type": "error",
          "ename": "ValueError",
          "evalue": "ignored",
          "traceback": [
            "\u001b[0;31m---------------------------------------------------------------------------\u001b[0m",
            "\u001b[0;31mValueError\u001b[0m                                Traceback (most recent call last)",
            "\u001b[0;32m<ipython-input-18-7169bfa61642>\u001b[0m in \u001b[0;36m<module>\u001b[0;34m()\u001b[0m\n\u001b[1;32m     23\u001b[0m \u001b[0mprint\u001b[0m\u001b[0;34m(\u001b[0m\u001b[0mhuman\u001b[0m\u001b[0;34m.\u001b[0m\u001b[0mtemp\u001b[0m\u001b[0;34m)\u001b[0m\u001b[0;34m\u001b[0m\u001b[0;34m\u001b[0m\u001b[0m\n\u001b[1;32m     24\u001b[0m \u001b[0mprint\u001b[0m\u001b[0;34m(\u001b[0m\u001b[0mhuman\u001b[0m\u001b[0;34m.\u001b[0m\u001b[0mconvert\u001b[0m\u001b[0;34m(\u001b[0m\u001b[0;34m)\u001b[0m\u001b[0;34m)\u001b[0m\u001b[0;34m\u001b[0m\u001b[0;34m\u001b[0m\u001b[0m\n\u001b[0;32m---> 25\u001b[0;31m \u001b[0mhuman\u001b[0m\u001b[0;34m.\u001b[0m\u001b[0mtemp\u001b[0m \u001b[0;34m=\u001b[0m \u001b[0;34m-\u001b[0m\u001b[0;36m400\u001b[0m\u001b[0;34m\u001b[0m\u001b[0;34m\u001b[0m\u001b[0m\n\u001b[0m",
            "\u001b[0;32m<ipython-input-18-7169bfa61642>\u001b[0m in \u001b[0;36mset_temp\u001b[0;34m(self, value)\u001b[0m\n\u001b[1;32m     13\u001b[0m   \u001b[0;32mdef\u001b[0m \u001b[0mset_temp\u001b[0m\u001b[0;34m(\u001b[0m\u001b[0mself\u001b[0m\u001b[0;34m,\u001b[0m \u001b[0mvalue\u001b[0m\u001b[0;34m)\u001b[0m\u001b[0;34m:\u001b[0m\u001b[0;34m\u001b[0m\u001b[0;34m\u001b[0m\u001b[0m\n\u001b[1;32m     14\u001b[0m     \u001b[0;32mif\u001b[0m \u001b[0mvalue\u001b[0m \u001b[0;34m<\u001b[0m \u001b[0;34m-\u001b[0m\u001b[0;36m273\u001b[0m\u001b[0;34m:\u001b[0m\u001b[0;34m\u001b[0m\u001b[0;34m\u001b[0m\u001b[0m\n\u001b[0;32m---> 15\u001b[0;31m       \u001b[0;32mraise\u001b[0m \u001b[0mValueError\u001b[0m\u001b[0;34m(\u001b[0m\u001b[0;34m\"this temperature is not possible\"\u001b[0m\u001b[0;34m)\u001b[0m\u001b[0;34m\u001b[0m\u001b[0;34m\u001b[0m\u001b[0m\n\u001b[0m\u001b[1;32m     16\u001b[0m     \u001b[0mself\u001b[0m\u001b[0;34m.\u001b[0m\u001b[0m_temp\u001b[0m \u001b[0;34m=\u001b[0m \u001b[0mvalue\u001b[0m\u001b[0;34m\u001b[0m\u001b[0;34m\u001b[0m\u001b[0m\n\u001b[1;32m     17\u001b[0m \u001b[0;34m\u001b[0m\u001b[0m\n",
            "\u001b[0;31mValueError\u001b[0m: this temperature is not possible"
          ]
        }
      ]
    },
    {
      "cell_type": "code",
      "source": [
        "# Al elegant way to do the above thing is using decorators\n",
        "class TempConv:\n",
        "  def __init__(self, temp=0):\n",
        "    self.temp = temp\n",
        "  def convert(self):\n",
        "    return 1.8*self._temp+32\n",
        "  print(\"Setting temperature...\")\n",
        "  # getter function\n",
        "  @property\n",
        "  def temp(self):\n",
        "    print(\"Getting temperature...\")\n",
        "    return self._temp\n",
        "  \n",
        "  # setter function\n",
        "  @temp.setter\n",
        "  def temp(self, value):\n",
        "    if value < -273:\n",
        "      raise ValueError(\"this temperature is not possible\")\n",
        "    self._temp = value\n",
        "\n",
        "\n",
        "human = TempConv(45)\n",
        "print(human.temp)\n",
        "print(human.convert())\n",
        "# human.temp = -400\n",
        "\n"
      ],
      "metadata": {
        "colab": {
          "base_uri": "https://localhost:8080/",
          "height": 410
        },
        "id": "3R8kwgu_7M1y",
        "outputId": "cc8f21a0-e38d-4e72-a0de-295e7d1b15b9"
      },
      "execution_count": null,
      "outputs": [
        {
          "output_type": "stream",
          "name": "stdout",
          "text": [
            "Setting temperature...\n",
            "Getting temperature...\n",
            "45\n",
            "113.0\n"
          ]
        },
        {
          "output_type": "error",
          "ename": "ValueError",
          "evalue": "ignored",
          "traceback": [
            "\u001b[0;31m---------------------------------------------------------------------------\u001b[0m",
            "\u001b[0;31mValueError\u001b[0m                                Traceback (most recent call last)",
            "\u001b[0;32m<ipython-input-23-2131f4d58d24>\u001b[0m in \u001b[0;36m<module>\u001b[0;34m()\u001b[0m\n\u001b[1;32m     23\u001b[0m \u001b[0mprint\u001b[0m\u001b[0;34m(\u001b[0m\u001b[0mhuman\u001b[0m\u001b[0;34m.\u001b[0m\u001b[0mtemp\u001b[0m\u001b[0;34m)\u001b[0m\u001b[0;34m\u001b[0m\u001b[0;34m\u001b[0m\u001b[0m\n\u001b[1;32m     24\u001b[0m \u001b[0mprint\u001b[0m\u001b[0;34m(\u001b[0m\u001b[0mhuman\u001b[0m\u001b[0;34m.\u001b[0m\u001b[0mconvert\u001b[0m\u001b[0;34m(\u001b[0m\u001b[0;34m)\u001b[0m\u001b[0;34m)\u001b[0m\u001b[0;34m\u001b[0m\u001b[0;34m\u001b[0m\u001b[0m\n\u001b[0;32m---> 25\u001b[0;31m \u001b[0mhuman\u001b[0m\u001b[0;34m.\u001b[0m\u001b[0mtemp\u001b[0m \u001b[0;34m=\u001b[0m \u001b[0;34m-\u001b[0m\u001b[0;36m400\u001b[0m\u001b[0;34m\u001b[0m\u001b[0;34m\u001b[0m\u001b[0m\n\u001b[0m\u001b[1;32m     26\u001b[0m \u001b[0;34m\u001b[0m\u001b[0m\n",
            "\u001b[0;32m<ipython-input-23-2131f4d58d24>\u001b[0m in \u001b[0;36mtemp\u001b[0;34m(self, value)\u001b[0m\n\u001b[1;32m     16\u001b[0m   \u001b[0;32mdef\u001b[0m \u001b[0mtemp\u001b[0m\u001b[0;34m(\u001b[0m\u001b[0mself\u001b[0m\u001b[0;34m,\u001b[0m \u001b[0mvalue\u001b[0m\u001b[0;34m)\u001b[0m\u001b[0;34m:\u001b[0m\u001b[0;34m\u001b[0m\u001b[0;34m\u001b[0m\u001b[0m\n\u001b[1;32m     17\u001b[0m     \u001b[0;32mif\u001b[0m \u001b[0mvalue\u001b[0m \u001b[0;34m<\u001b[0m \u001b[0;34m-\u001b[0m\u001b[0;36m273\u001b[0m\u001b[0;34m:\u001b[0m\u001b[0;34m\u001b[0m\u001b[0;34m\u001b[0m\u001b[0m\n\u001b[0;32m---> 18\u001b[0;31m       \u001b[0;32mraise\u001b[0m \u001b[0mValueError\u001b[0m\u001b[0;34m(\u001b[0m\u001b[0;34m\"this temperature is not possible\"\u001b[0m\u001b[0;34m)\u001b[0m\u001b[0;34m\u001b[0m\u001b[0;34m\u001b[0m\u001b[0m\n\u001b[0m\u001b[1;32m     19\u001b[0m     \u001b[0mself\u001b[0m\u001b[0;34m.\u001b[0m\u001b[0m_temp\u001b[0m \u001b[0;34m=\u001b[0m \u001b[0mvalue\u001b[0m\u001b[0;34m\u001b[0m\u001b[0;34m\u001b[0m\u001b[0m\n\u001b[1;32m     20\u001b[0m \u001b[0;34m\u001b[0m\u001b[0m\n",
            "\u001b[0;31mValueError\u001b[0m: this temperature is not possible"
          ]
        }
      ]
    },
    {
      "cell_type": "markdown",
      "source": [
        "## Encapsulation In an object oriented python program, you can restrict access to methods and variables. This can prevent the data from being modified by accident and is known as encapsulation.  "
      ],
      "metadata": {
        "id": "IO_ZGzeQ2Wsm"
      }
    },
    {
      "cell_type": "code",
      "source": [
        "class Learning:\n",
        "  def __init__(self):\n",
        "    self.course_name = \"ML\"\n",
        "  def learn(self):\n",
        "    print(self.__ghost_function())\n",
        "    return \"learning {}\".format(self.course_name)\n",
        "  \n",
        "  def __ghost_function(self):\n",
        "    return \"starting to learn {}\".format(self.course_name)\n",
        "\n",
        "course = Learning()\n",
        "print(course.learn())\n",
        "print(course.__ghost_function())  # this method cannot be accessed by the object "
      ],
      "metadata": {
        "id": "BaefzqpIyMgd",
        "colab": {
          "base_uri": "https://localhost:8080/",
          "height": 237
        },
        "outputId": "6b457a1f-db58-4219-d5af-f3d22c6f2fa9"
      },
      "execution_count": null,
      "outputs": [
        {
          "output_type": "stream",
          "name": "stdout",
          "text": [
            "starting to learn ML\n",
            "learning ML\n"
          ]
        },
        {
          "output_type": "error",
          "ename": "AttributeError",
          "evalue": "ignored",
          "traceback": [
            "\u001b[0;31m---------------------------------------------------------------------------\u001b[0m",
            "\u001b[0;31mAttributeError\u001b[0m                            Traceback (most recent call last)",
            "\u001b[0;32m<ipython-input-32-af77f1b33499>\u001b[0m in \u001b[0;36m<module>\u001b[0;34m()\u001b[0m\n\u001b[1;32m     11\u001b[0m \u001b[0mcourse\u001b[0m \u001b[0;34m=\u001b[0m \u001b[0mLearning\u001b[0m\u001b[0;34m(\u001b[0m\u001b[0;34m)\u001b[0m\u001b[0;34m\u001b[0m\u001b[0;34m\u001b[0m\u001b[0m\n\u001b[1;32m     12\u001b[0m \u001b[0mprint\u001b[0m\u001b[0;34m(\u001b[0m\u001b[0mcourse\u001b[0m\u001b[0;34m.\u001b[0m\u001b[0mlearn\u001b[0m\u001b[0;34m(\u001b[0m\u001b[0;34m)\u001b[0m\u001b[0;34m)\u001b[0m\u001b[0;34m\u001b[0m\u001b[0;34m\u001b[0m\u001b[0m\n\u001b[0;32m---> 13\u001b[0;31m \u001b[0mprint\u001b[0m\u001b[0;34m(\u001b[0m\u001b[0mcourse\u001b[0m\u001b[0;34m.\u001b[0m\u001b[0m__ghost_function\u001b[0m\u001b[0;34m(\u001b[0m\u001b[0;34m)\u001b[0m\u001b[0;34m)\u001b[0m\u001b[0;34m\u001b[0m\u001b[0;34m\u001b[0m\u001b[0m\n\u001b[0m",
            "\u001b[0;31mAttributeError\u001b[0m: 'Learning' object has no attribute '__ghost_function'"
          ]
        }
      ]
    },
    {
      "cell_type": "markdown",
      "source": [
        "## Polymorphism: It defines the ability to take different forms. Polymorphism in Python allows us to define methods in the child class with the same name as defined in their parent class. "
      ],
      "metadata": {
        "id": "-reejoPp2a9Z"
      }
    },
    {
      "cell_type": "code",
      "source": [
        "class Tomato(): \n",
        "     def type(self): \n",
        "       print(\"Vegetable\") \n",
        "     def color(self):\n",
        "       print(\"Red\") \n",
        "class Apple(): \n",
        "     def type(self): \n",
        "       print(\"Fruit\") \n",
        "     def color(self): \n",
        "       print(\"Red\") \n",
        "      \n",
        "def func(obj): \n",
        "       obj.type() \n",
        "       obj.color()\n",
        "        \n",
        "obj_tomato = Tomato() \n",
        "obj_apple = Apple() \n",
        "func(obj_tomato) \n",
        "func(obj_apple)\n",
        "\n"
      ],
      "metadata": {
        "id": "ItkiTGE72aKx",
        "colab": {
          "base_uri": "https://localhost:8080/"
        },
        "outputId": "c88c1138-1a08-4302-97ed-4218377e0dd9"
      },
      "execution_count": null,
      "outputs": [
        {
          "output_type": "stream",
          "name": "stdout",
          "text": [
            "Vegetable\n",
            "Red\n",
            "Fruit\n",
            "Red\n"
          ]
        }
      ]
    },
    {
      "cell_type": "code",
      "source": [
        "class Bird:\n",
        "     def intro(self):\n",
        "       print(\"There are different types of birds\")\n",
        " \n",
        "     def flight(self):\n",
        "       print(\"Most of the birds can fly but some cannot\")\n",
        " \n",
        "class parrot(Bird):\n",
        "     def flight(self):\n",
        "       print(\"Parrots can fly\")\n",
        " \n",
        "class penguin(Bird):\n",
        "     def flight(self):\n",
        "       print(\"Penguins do not fly\")\n",
        " \n",
        "obj_bird = Bird()\n",
        "obj_parr = parrot()\n",
        "obj_peng = penguin()\n",
        " \n",
        "obj_bird.intro()\n",
        "obj_bird.flight()\n",
        " \n",
        "obj_parr.intro()\n",
        "obj_parr.flight()\n",
        " \n",
        "obj_peng.intro()\n",
        "obj_peng.flight()"
      ],
      "metadata": {
        "colab": {
          "base_uri": "https://localhost:8080/"
        },
        "id": "kiLBzF9JBAAw",
        "outputId": "d0cfbb86-229c-4c71-d8f0-caf174b463e6"
      },
      "execution_count": null,
      "outputs": [
        {
          "output_type": "stream",
          "name": "stdout",
          "text": [
            "There are different types of birds\n",
            "Most of the birds can fly but some cannot\n",
            "There are different types of birds\n",
            "Parrots can fly\n",
            "There are different types of birds\n",
            "Penguins do not fly\n"
          ]
        }
      ]
    }
  ],
  "metadata": {
    "kernelspec": {
      "display_name": "Python 3",
      "language": "python",
      "name": "python3"
    },
    "language_info": {
      "codemirror_mode": {
        "name": "ipython",
        "version": 3
      },
      "file_extension": ".py",
      "mimetype": "text/x-python",
      "name": "python",
      "nbconvert_exporter": "python",
      "pygments_lexer": "ipython3",
      "version": "3.6.7"
    },
    "colab": {
      "name": "Python Oops.ipynb",
      "provenance": [],
      "collapsed_sections": [],
      "include_colab_link": true
    }
  },
  "nbformat": 4,
  "nbformat_minor": 0
}